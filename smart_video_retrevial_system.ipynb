{
  "nbformat": 4,
  "nbformat_minor": 0,
  "metadata": {
    "colab": {
      "provenance": [],
      "mount_file_id": "1G5uddj1zqutuffJdTslPkKqEiif675aJ",
      "authorship_tag": "ABX9TyMQzPX0WL8HrALhiIRBVeCi",
      "include_colab_link": true
    },
    "kernelspec": {
      "name": "python3",
      "display_name": "Python 3"
    },
    "language_info": {
      "name": "python"
    }
  },
  "cells": [
    {
      "cell_type": "markdown",
      "metadata": {
        "id": "view-in-github",
        "colab_type": "text"
      },
      "source": [
        "<a href=\"https://colab.research.google.com/github/jayanthk82/smart-video-retrieval-system/blob/main/smart_video_retrevial_system.ipynb\" target=\"_parent\"><img src=\"https://colab.research.google.com/assets/colab-badge.svg\" alt=\"Open In Colab\"/></a>"
      ]
    },
    {
      "cell_type": "code",
      "execution_count": null,
      "metadata": {
        "collapsed": true,
        "id": "mVBnN3e2N7u6"
      },
      "outputs": [],
      "source": [
        "!pip install PyMuPDF spacy sentence-transformers chromadb\n",
        "!pip install opencv-python"
      ]
    },
    {
      "cell_type": "code",
      "source": [
        "import os\n",
        "import numpy as np\n",
        "import cv2\n",
        "import math\n",
        "import tensorflow as tf\n",
        "import chromadb\n",
        "import fitz  # PyMuPDF\n",
        "from sentence_transformers import SentenceTransformer\n",
        "from sentence_transformers import util\n",
        "from PIL import Image\n",
        "from transformers import BlipProcessor, BlipForQuestionAnswering"
      ],
      "metadata": {
        "id": "wzns0ugFSaxO"
      },
      "execution_count": null,
      "outputs": []
    },
    {
      "cell_type": "code",
      "source": [
        "text_vectorization_model = SentenceTransformer(\"all-MiniLM-L6-v2\")\n",
        "video_captioning_processor = BlipProcessor.from_pretrained(\"Salesforce/blip-vqa-base\",use_fast = True)\n",
        "video_captioning_model = BlipForQuestionAnswering.from_pretrained(\"Salesforce/blip-vqa-base\")"
      ],
      "metadata": {
        "id": "sltqBNkVTPH4"
      },
      "execution_count": null,
      "outputs": []
    },
    {
      "cell_type": "code",
      "source": [
        "def caption(raw_image,video_captioning_processor,video_captioning_model):\n",
        "  #raw_image = Image.open(img_url).convert('RGB')\n",
        "  question = \"whats happening in the image\"\n",
        "  inputs = video_captioning_processor(raw_image, question, return_tensors=\"pt\")\n",
        "  out = video_captioning_model.generate(**inputs)\n",
        "  return video_captioning_processor.decode(out[0], skip_special_tokens=True)\n"
      ],
      "metadata": {
        "id": "cRpe9sqOLJWe"
      },
      "execution_count": null,
      "outputs": []
    },
    {
      "cell_type": "code",
      "source": [
        "def summaries(video_path,video_captioning_processor,video_captioning_model):\n",
        "\n",
        "  vidcap = cv2.VideoCapture(video_path)\n",
        "  story = ''\n",
        "  fps = vidcap.get(cv2.CAP_PROP_FPS)\n",
        "  frame_count = int(vidcap.get(cv2.CAP_PROP_FRAME_COUNT))\n",
        "  duration = frame_count / fps  # Total duration in seconds\n",
        "  second = 0\n",
        "  while True:\n",
        "    vidcap.set(cv2.CAP_PROP_POS_FRAMES, math.floor(second * fps))\n",
        "    ret,frame = vidcap.read()\n",
        "    if not ret:\n",
        "      break\n",
        "    story += caption(Image.fromarray(frame),video_captioning_processor,video_captioning_model)\n",
        "    story+=' '\n",
        "    second += 1\n",
        "  vidcap.release()\n",
        "  return story\n"
      ],
      "metadata": {
        "id": "ifz6I0CdLKSq"
      },
      "execution_count": null,
      "outputs": []
    },
    {
      "cell_type": "code",
      "source": [
        "def folder_walkthrough(root_folder):\n",
        "  data_paths = list()\n",
        "  for dirpath, dirnames, filenames in os.walk(root_folder):\n",
        "    for i in filenames:\n",
        "      data_paths.append(os.path.join(dirpath,i))\n",
        "  return data_paths"
      ],
      "metadata": {
        "id": "IvO_5NPDLM7K"
      },
      "execution_count": null,
      "outputs": []
    },
    {
      "cell_type": "code",
      "source": [
        "def chromadb_setup(setup_path,collection_name,vector,samples_count,summary):\n",
        "\n",
        "  client = chromadb.PersistentClient(path=setup_path)\n",
        "  collection = client.get_or_create_collection(name= collection_name)\n",
        "  if not vector:\n",
        "    return\n",
        "  for i in range(samples_count):\n",
        "    collection.add(\n",
        "      ids = [str(i)],\n",
        "      embeddings = [vector[i]],\n",
        "      documents = [summary[i]]\n",
        "  )\n",
        "  return collection"
      ],
      "metadata": {
        "id": "l9Q_uFkHSmrn"
      },
      "execution_count": null,
      "outputs": []
    },
    {
      "cell_type": "code",
      "source": [
        "def upload_your_dataset(video_address):\n",
        "  chromadb_setup_path = '/content/drive/MyDrive/video_CHROMA_DB'\n",
        "  chroma_collection_name = 'VIDEOs'\n",
        "  samples_count = len(video_address)\n",
        "  vector = list()\n",
        "  summary = list()\n",
        "  for i in video_address:\n",
        "    summary.append(summaries(i,video_captioning_processor,video_captioning_model))\n",
        "  for i in summary:\n",
        "    vector.append(text_vectorization_model.encode(i,convert_to_numpy=True))\n",
        "  return chromadb_setup(chromadb_setup_path,chroma_collection_name,vector,samples_count,summary)"
      ],
      "metadata": {
        "id": "D9jfz4vsWzzz"
      },
      "execution_count": null,
      "outputs": []
    },
    {
      "cell_type": "code",
      "source": [
        "def QUERY(QUERY,chromadb_collection):\n",
        "  ChromaDB_Query_Embeddings = text_vectorization_model.encode(QUERY,convert_to_numpy=True)\n",
        "  ChromaDB_Query_result = chromadb_collection.query(query_embeddings = ChromaDB_Query_Embeddings,\n",
        "                 n_results=1)\n",
        "  print('using chromaDB: Your query is related to the document is at ',video_address[int(ChromaDB_Query_result['ids'][0][0])])"
      ],
      "metadata": {
        "id": "DHNldYr4Ur-V"
      },
      "execution_count": null,
      "outputs": []
    },
    {
      "cell_type": "code",
      "source": [
        "video_address = folder_walkthrough('/content/drive/MyDrive/VIDEO_DATASET')\n",
        "chromadb_collection = upload_your_dataset(video_address)\n"
      ],
      "metadata": {
        "colab": {
          "base_uri": "https://localhost:8080/"
        },
        "id": "70bZNkAvYMW0",
        "outputId": "d9587678-0d47-4d2d-8e5f-f16dd83602f5"
      },
      "execution_count": null,
      "outputs": [
        {
          "output_type": "stream",
          "name": "stdout",
          "text": [
            "Enter your query: Dancing videos\n",
            "using chromaDB: Your query is related to the document is at  /content/drive/MyDrive/VIDEO_DATASET/7269163-uhd_2160_3840_25fps.mp4\n"
          ]
        }
      ]
    },
    {
      "cell_type": "code",
      "source": [
        "QUERY('coffe',chromadb_collection)"
      ],
      "metadata": {
        "colab": {
          "base_uri": "https://localhost:8080/"
        },
        "id": "OHzAlgOXX91H",
        "outputId": "cb03a39c-334d-4184-c6b8-f8a58a533ce1"
      },
      "execution_count": null,
      "outputs": [
        {
          "output_type": "stream",
          "name": "stdout",
          "text": [
            "using chromaDB: Your query is related to the document is at  /content/drive/MyDrive/VIDEO_DATASET/6686511-uhd_3840_2160_25fps.mp4\n"
          ]
        }
      ]
    },
    {
      "cell_type": "code",
      "source": [],
      "metadata": {
        "id": "YrCsvUgMeZas"
      },
      "execution_count": null,
      "outputs": []
    }
  ]
}